{
  "nbformat": 4,
  "nbformat_minor": 0,
  "metadata": {
    "colab": {
      "name": "Untitled3.ipynb",
      "provenance": [],
      "authorship_tag": "ABX9TyPWeGXRNtAAsbXrMOxQrsqi",
      "include_colab_link": true
    },
    "kernelspec": {
      "name": "python3",
      "display_name": "Python 3"
    }
  },
  "cells": [
    {
      "cell_type": "markdown",
      "metadata": {
        "id": "view-in-github",
        "colab_type": "text"
      },
      "source": [
        "<a href=\"https://colab.research.google.com/github/ghozialbizia/Tugas12Python/blob/main/Tuga12.ipynb\" target=\"_parent\"><img src=\"https://colab.research.google.com/assets/colab-badge.svg\" alt=\"Open In Colab\"/></a>"
      ]
    },
    {
      "cell_type": "code",
      "metadata": {
        "id": "pSqJpyaOFubc"
      },
      "source": [
        "import numpy as np"
      ],
      "execution_count": null,
      "outputs": []
    },
    {
      "cell_type": "code",
      "metadata": {
        "id": "GCWCLW1DFyhy"
      },
      "source": [
        "def ploss(d,f):\r\n",
        "  pldb=-22.75 + (20*np.log10(d)) + (20*np.log10(f))\r\n",
        "  plnum=LtN(-pldb)\r\n",
        "  return pldb,plnum"
      ],
      "execution_count": null,
      "outputs": []
    },
    {
      "cell_type": "code",
      "metadata": {
        "id": "hQmVaWWjFzOR"
      },
      "source": [
        "def lp(d,fc,hr,ht,area):\r\n",
        "\r\n",
        "#d = jarak antara pengirim dan penerima (dalam kilometer)\r\n",
        "#fc = frekuensi dalam MHz (range antara 150 MHz s.d. 2000 MHz)\r\n",
        "#hr = tinggi antenna penerima dalam meter (range 1 s.d. 30 meter)\r\n",
        "#hT = tinggi antenna pengirim dalam meter (range 30 s.d. 200 meter)\r\n",
        "#area = urban, suburban, open\r\n",
        "\r\n",
        "  #C1 & C2 value\r\n",
        "  if fc in range (400,1500):\r\n",
        "    C1 = 69.55\r\n",
        "    C2 = 26.16\r\n",
        "  elif fc in range (1501,2000):\r\n",
        "    C1 = 46.3\r\n",
        "    C2 = 33.9\r\n",
        "\r\n",
        "  #Calculating each area\r\n",
        "  # 1 = urban area \r\n",
        "  # 2 = suburban area\r\n",
        "  # 3 = open area\r\n",
        "  if area == 1:\r\n",
        "    Cm = 0\r\n",
        "  elif area == 2:\r\n",
        "    Cm = (-2*(np.log10(fc/28))**2) - 5.4\r\n",
        "  elif area == 3:\r\n",
        "    Cm = (-4.78*(np.log10(fc))**2) + (18.33*np.log10(fc)) - 40.94\r\n",
        "\r\n",
        "     #Calculating ahr value\r\n",
        "  ahr = ((1.1*np.log10(fc)-0.7)*hr)-((1.56*np.log10(fc))-0.8) \r\n",
        "  \r\n",
        "  #Calculating LP value\r\n",
        "  Lp = C1 + (C2*np.log10(fc)) - (13.83*np.log10(ht)) - ahr + ((44.9-(6.55*np.log10(ht)))*np.log10(d)) + Cm\r\n",
        "\r\n",
        "  return Lp"
      ],
      "execution_count": null,
      "outputs": []
    },
    {
      "cell_type": "code",
      "metadata": {
        "id": "rLn_Fm31F0F_"
      },
      "source": [
        "Lpval = lp(5,1250,8,88,3)\r\n",
        "print(\"The Result is \",Lpval, \"dB\")"
      ],
      "execution_count": null,
      "outputs": []
    }
  ]
}